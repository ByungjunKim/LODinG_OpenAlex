{
  "cells": [
    {
      "cell_type": "markdown",
      "metadata": {
        "id": "view-in-github",
        "colab_type": "text"
      },
      "source": [
        "<a href=\"https://colab.research.google.com/github/ByungjunKim/LODinG_OpenAlex/blob/main/LOD_and_OpenAlex.ipynb\" target=\"_parent\"><img src=\"https://colab.research.google.com/assets/colab-badge.svg\" alt=\"Open In Colab\"/></a>"
      ]
    },
    {
      "cell_type": "markdown",
      "source": [
        "# LOD and OpenAlex"
      ],
      "metadata": {
        "id": "oU7AFGNfJB9a"
      }
    },
    {
      "cell_type": "code",
      "execution_count": 1,
      "metadata": {
        "id": "PruqkTyPGeSd",
        "colab": {
          "base_uri": "https://localhost:8080/"
        },
        "outputId": "5a558e96-93c3-49a0-cc86-b331bfb1728e"
      },
      "outputs": [
        {
          "output_type": "stream",
          "name": "stdout",
          "text": [
            "\u001b[?25l     \u001b[90m━━━━━━━━━━━━━━━━━━━━━━━━━━━━━━━━━━━━━━━━\u001b[0m \u001b[32m0.0/531.9 kB\u001b[0m \u001b[31m?\u001b[0m eta \u001b[36m-:--:--\u001b[0m\r\u001b[2K     \u001b[91m━━━━━━━━━━━━━━━━━━━━━━━━━━━━━━━━━━━━━━━\u001b[0m\u001b[90m╺\u001b[0m \u001b[32m522.2/531.9 kB\u001b[0m \u001b[31m17.3 MB/s\u001b[0m eta \u001b[36m0:00:01\u001b[0m\r\u001b[2K     \u001b[90m━━━━━━━━━━━━━━━━━━━━━━━━━━━━━━━━━━━━━━━━\u001b[0m \u001b[32m531.9/531.9 kB\u001b[0m \u001b[31m11.6 MB/s\u001b[0m eta \u001b[36m0:00:00\u001b[0m\n",
            "\u001b[?25h\u001b[?25l     \u001b[90m━━━━━━━━━━━━━━━━━━━━━━━━━━━━━━━━━━━━━━━━\u001b[0m \u001b[32m0.0/41.7 kB\u001b[0m \u001b[31m?\u001b[0m eta \u001b[36m-:--:--\u001b[0m\r\u001b[2K     \u001b[90m━━━━━━━━━━━━━━━━━━━━━━━━━━━━━━━━━━━━━━━━\u001b[0m \u001b[32m41.7/41.7 kB\u001b[0m \u001b[31m2.4 MB/s\u001b[0m eta \u001b[36m0:00:00\u001b[0m\n",
            "\u001b[?25h"
          ]
        }
      ],
      "source": [
        "pip install -U -q requests natsort tqdm SPARQLWrapper"
      ]
    },
    {
      "cell_type": "code",
      "execution_count": 13,
      "metadata": {
        "id": "_9DdvqSNsoD0"
      },
      "outputs": [],
      "source": [
        "import pandas as pd\n",
        "import requests\n",
        "from tqdm.auto import tqdm\n",
        "tqdm.pandas()\n",
        "import json\n",
        "import glob\n",
        "import time\n",
        "import re\n",
        "from natsort import natsorted\n",
        "import itertools\n",
        "import matplotlib.pyplot as plt\n",
        "import sys\n",
        "from SPARQLWrapper import SPARQLWrapper, JSON\n",
        "from urllib.parse import quote"
      ]
    },
    {
      "cell_type": "code",
      "execution_count": 20,
      "metadata": {
        "id": "0Uxceou_HE4x"
      },
      "outputs": [],
      "source": [
        "def request_until_success(url, timeout=20, delay=3):\n",
        "    \"\"\"\n",
        "    Continuously makes a request to the specified URL with a timeout until the request is successful.\n",
        "\n",
        "    Args:\n",
        "    - url (str): The URL to request.\n",
        "    - timeout (int): The timeout for the request in seconds.\n",
        "    - delay (int): The delay between retries in seconds.\n",
        "\n",
        "    Returns:\n",
        "    - response: The successful response from the server.\n",
        "    \"\"\"\n",
        "    attempt = 1\n",
        "    while True:\n",
        "        try:\n",
        "            # print(f\"Attempt {attempt}\")\n",
        "            # response = requests.get(url,headers=headers, timeout=timeout)\n",
        "            response = requests.get(url, timeout=timeout)\n",
        "            response.raise_for_status()  # Raises HTTPError for bad responses\n",
        "            # print(\"Request successful\")\n",
        "            return response.json()\n",
        "        except requests.Timeout as e:\n",
        "            print(f\"Request timed out: {e}\")\n",
        "        except requests.RequestException as e:\n",
        "            print(f\"Request failed: {e}\")\n",
        "\n",
        "        # print(f\"Retrying in {delay} seconds...\")\n",
        "        time.sleep(delay)\n",
        "        attempt += 1"
      ]
    },
    {
      "cell_type": "code",
      "execution_count": 21,
      "metadata": {
        "id": "MktJhs2IHIRb"
      },
      "outputs": [],
      "source": [
        "email = 'kuntakim88@gmail.com' # any email\n",
        "cursor = '*'"
      ]
    },
    {
      "cell_type": "markdown",
      "metadata": {
        "id": "CVp2Uyu8fmag"
      },
      "source": [
        "### LOD\n",
        "Example Query : https://tinyurl.com/2aq7g67x"
      ]
    },
    {
      "cell_type": "code",
      "execution_count": 22,
      "metadata": {
        "id": "mz_-3w3afnpu"
      },
      "outputs": [],
      "source": [
        "endpoint_url = \"https://query.mimotext.uni-trier.de/proxy/wdqs/bigdata/namespace/wdq/sparql\"\n",
        "\n",
        "query = \"\"\"PREFIX mmdt: <http://data.mimotext.uni-trier.de/prop/direct/>\n",
        "PREFIX mmd: <http://data.mimotext.uni-trier.de/entity/>\n",
        "\n",
        "SELECT ?scholarlyWork ?scholarlyWorkLabel ?zotero_link ?pub_date ?title\n",
        "WHERE {\n",
        "\n",
        "?scholarlyWork mmdt:P2 mmd:Q3;\n",
        "      mmdt:P9 ?pub_date;\n",
        "      mmdt:P19 ?zotero_link;\n",
        "      mmdt:P4 ?title.\n",
        "\n",
        "  SERVICE wikibase:label { bd:serviceParam wikibase:language \"[AUTO_LANGUAGE],en\". }\n",
        "\n",
        "}\n",
        "\"\"\""
      ]
    },
    {
      "cell_type": "code",
      "execution_count": 23,
      "metadata": {
        "id": "3FIRJba0fpRT"
      },
      "outputs": [],
      "source": [
        "def get_results(endpoint_url, query):\n",
        "    user_agent = \"WDQS-example Python/%s.%s\" % (sys.version_info[0], sys.version_info[1])\n",
        "    # TODO adjust user agent; see https://w.wiki/CX6\n",
        "    sparql = SPARQLWrapper(endpoint_url, agent=user_agent)\n",
        "    sparql.setQuery(query)\n",
        "    sparql.setReturnFormat(JSON)\n",
        "    return sparql.query().convert()\n",
        "\n",
        "results = get_results(endpoint_url, query)"
      ]
    },
    {
      "cell_type": "code",
      "execution_count": 24,
      "metadata": {
        "colab": {
          "base_uri": "https://localhost:8080/"
        },
        "id": "8yAToOC6ubP6",
        "outputId": "83ee5014-ce8c-4d96-a06f-e7559a4db1e5"
      },
      "outputs": [
        {
          "output_type": "execute_result",
          "data": {
            "text/plain": [
              "{'scholarlyWork': {'type': 'uri',\n",
              "  'value': 'http://data.mimotext.uni-trier.de/entity/Q3928'},\n",
              " 'zotero_link': {'type': 'uri',\n",
              "  'value': 'https://www.zotero.org/groups/2342956/mimotext/items/QUESHZGA'},\n",
              " 'title': {'xml:lang': 'de',\n",
              "  'type': 'literal',\n",
              "  'value': 'Die französische Aufklärung: Literatur, Gesellschaft und Kultur des 18. Jahrhunderts'},\n",
              " 'pub_date': {'datatype': 'http://www.w3.org/2001/XMLSchema#dateTime',\n",
              "  'type': 'literal',\n",
              "  'value': '1998-01-01T00:00:00Z'},\n",
              " 'scholarlyWorkLabel': {'xml:lang': 'en',\n",
              "  'type': 'literal',\n",
              "  'value': 'Bauer-Funke_1998a'}}"
            ]
          },
          "metadata": {},
          "execution_count": 24
        }
      ],
      "source": [
        "results[\"results\"][\"bindings\"][0]"
      ]
    },
    {
      "cell_type": "code",
      "execution_count": 25,
      "metadata": {
        "colab": {
          "base_uri": "https://localhost:8080/",
          "height": 292
        },
        "id": "QsM6v54AgYG6",
        "outputId": "c5c86ab0-41e6-4a5f-8659-553f771d7544"
      },
      "outputs": [
        {
          "output_type": "execute_result",
          "data": {
            "text/plain": [
              "                                    scholarlyWork  \\\n",
              "0  http://data.mimotext.uni-trier.de/entity/Q3928   \n",
              "1  http://data.mimotext.uni-trier.de/entity/Q3929   \n",
              "2  http://data.mimotext.uni-trier.de/entity/Q3930   \n",
              "3  http://data.mimotext.uni-trier.de/entity/Q3931   \n",
              "4  http://data.mimotext.uni-trier.de/entity/Q3932   \n",
              "\n",
              "                                         zotero_link  \\\n",
              "0  https://www.zotero.org/groups/2342956/mimotext...   \n",
              "1  https://www.zotero.org/groups/2342956/mimotext...   \n",
              "2  https://www.zotero.org/groups/2342956/mimotext...   \n",
              "3  https://www.zotero.org/groups/2342956/mimotext...   \n",
              "4  https://www.zotero.org/groups/2342956/mimotext...   \n",
              "\n",
              "                                               title              pub_date  \\\n",
              "0  Die französische Aufklärung: Literatur, Gesell...  1998-01-01T00:00:00Z   \n",
              "1      Französische Literatur in Einzeldarstellungen  1981-01-01T00:00:00Z   \n",
              "2  Handbuch Französisch: Sprache, Literatur, Kult...  2008-01-01T00:00:00Z   \n",
              "3                             18. Jahrhundert: Roman  2006-01-01T00:00:00Z   \n",
              "4  Französische Aufklärung. Bürgerliche Emanzipat...  1979-01-01T00:00:00Z   \n",
              "\n",
              "        scholarlyWorkLabel  \n",
              "0        Bauer-Funke_1998a  \n",
              "1  Brockmeier_Wetzel_1981a  \n",
              "2         Kolboom_ua_2008a  \n",
              "3       Rieger_Krauß_2006a  \n",
              "4           Schröder_1979a  "
            ],
            "text/html": [
              "\n",
              "  <div id=\"df-cff02475-0cc2-4a9e-9740-8b1aaf0a678f\" class=\"colab-df-container\">\n",
              "    <div>\n",
              "<style scoped>\n",
              "    .dataframe tbody tr th:only-of-type {\n",
              "        vertical-align: middle;\n",
              "    }\n",
              "\n",
              "    .dataframe tbody tr th {\n",
              "        vertical-align: top;\n",
              "    }\n",
              "\n",
              "    .dataframe thead th {\n",
              "        text-align: right;\n",
              "    }\n",
              "</style>\n",
              "<table border=\"1\" class=\"dataframe\">\n",
              "  <thead>\n",
              "    <tr style=\"text-align: right;\">\n",
              "      <th></th>\n",
              "      <th>scholarlyWork</th>\n",
              "      <th>zotero_link</th>\n",
              "      <th>title</th>\n",
              "      <th>pub_date</th>\n",
              "      <th>scholarlyWorkLabel</th>\n",
              "    </tr>\n",
              "  </thead>\n",
              "  <tbody>\n",
              "    <tr>\n",
              "      <th>0</th>\n",
              "      <td>http://data.mimotext.uni-trier.de/entity/Q3928</td>\n",
              "      <td>https://www.zotero.org/groups/2342956/mimotext...</td>\n",
              "      <td>Die französische Aufklärung: Literatur, Gesell...</td>\n",
              "      <td>1998-01-01T00:00:00Z</td>\n",
              "      <td>Bauer-Funke_1998a</td>\n",
              "    </tr>\n",
              "    <tr>\n",
              "      <th>1</th>\n",
              "      <td>http://data.mimotext.uni-trier.de/entity/Q3929</td>\n",
              "      <td>https://www.zotero.org/groups/2342956/mimotext...</td>\n",
              "      <td>Französische Literatur in Einzeldarstellungen</td>\n",
              "      <td>1981-01-01T00:00:00Z</td>\n",
              "      <td>Brockmeier_Wetzel_1981a</td>\n",
              "    </tr>\n",
              "    <tr>\n",
              "      <th>2</th>\n",
              "      <td>http://data.mimotext.uni-trier.de/entity/Q3930</td>\n",
              "      <td>https://www.zotero.org/groups/2342956/mimotext...</td>\n",
              "      <td>Handbuch Französisch: Sprache, Literatur, Kult...</td>\n",
              "      <td>2008-01-01T00:00:00Z</td>\n",
              "      <td>Kolboom_ua_2008a</td>\n",
              "    </tr>\n",
              "    <tr>\n",
              "      <th>3</th>\n",
              "      <td>http://data.mimotext.uni-trier.de/entity/Q3931</td>\n",
              "      <td>https://www.zotero.org/groups/2342956/mimotext...</td>\n",
              "      <td>18. Jahrhundert: Roman</td>\n",
              "      <td>2006-01-01T00:00:00Z</td>\n",
              "      <td>Rieger_Krauß_2006a</td>\n",
              "    </tr>\n",
              "    <tr>\n",
              "      <th>4</th>\n",
              "      <td>http://data.mimotext.uni-trier.de/entity/Q3932</td>\n",
              "      <td>https://www.zotero.org/groups/2342956/mimotext...</td>\n",
              "      <td>Französische Aufklärung. Bürgerliche Emanzipat...</td>\n",
              "      <td>1979-01-01T00:00:00Z</td>\n",
              "      <td>Schröder_1979a</td>\n",
              "    </tr>\n",
              "  </tbody>\n",
              "</table>\n",
              "</div>\n",
              "    <div class=\"colab-df-buttons\">\n",
              "\n",
              "  <div class=\"colab-df-container\">\n",
              "    <button class=\"colab-df-convert\" onclick=\"convertToInteractive('df-cff02475-0cc2-4a9e-9740-8b1aaf0a678f')\"\n",
              "            title=\"Convert this dataframe to an interactive table.\"\n",
              "            style=\"display:none;\">\n",
              "\n",
              "  <svg xmlns=\"http://www.w3.org/2000/svg\" height=\"24px\" viewBox=\"0 -960 960 960\">\n",
              "    <path d=\"M120-120v-720h720v720H120Zm60-500h600v-160H180v160Zm220 220h160v-160H400v160Zm0 220h160v-160H400v160ZM180-400h160v-160H180v160Zm440 0h160v-160H620v160ZM180-180h160v-160H180v160Zm440 0h160v-160H620v160Z\"/>\n",
              "  </svg>\n",
              "    </button>\n",
              "\n",
              "  <style>\n",
              "    .colab-df-container {\n",
              "      display:flex;\n",
              "      gap: 12px;\n",
              "    }\n",
              "\n",
              "    .colab-df-convert {\n",
              "      background-color: #E8F0FE;\n",
              "      border: none;\n",
              "      border-radius: 50%;\n",
              "      cursor: pointer;\n",
              "      display: none;\n",
              "      fill: #1967D2;\n",
              "      height: 32px;\n",
              "      padding: 0 0 0 0;\n",
              "      width: 32px;\n",
              "    }\n",
              "\n",
              "    .colab-df-convert:hover {\n",
              "      background-color: #E2EBFA;\n",
              "      box-shadow: 0px 1px 2px rgba(60, 64, 67, 0.3), 0px 1px 3px 1px rgba(60, 64, 67, 0.15);\n",
              "      fill: #174EA6;\n",
              "    }\n",
              "\n",
              "    .colab-df-buttons div {\n",
              "      margin-bottom: 4px;\n",
              "    }\n",
              "\n",
              "    [theme=dark] .colab-df-convert {\n",
              "      background-color: #3B4455;\n",
              "      fill: #D2E3FC;\n",
              "    }\n",
              "\n",
              "    [theme=dark] .colab-df-convert:hover {\n",
              "      background-color: #434B5C;\n",
              "      box-shadow: 0px 1px 3px 1px rgba(0, 0, 0, 0.15);\n",
              "      filter: drop-shadow(0px 1px 2px rgba(0, 0, 0, 0.3));\n",
              "      fill: #FFFFFF;\n",
              "    }\n",
              "  </style>\n",
              "\n",
              "    <script>\n",
              "      const buttonEl =\n",
              "        document.querySelector('#df-cff02475-0cc2-4a9e-9740-8b1aaf0a678f button.colab-df-convert');\n",
              "      buttonEl.style.display =\n",
              "        google.colab.kernel.accessAllowed ? 'block' : 'none';\n",
              "\n",
              "      async function convertToInteractive(key) {\n",
              "        const element = document.querySelector('#df-cff02475-0cc2-4a9e-9740-8b1aaf0a678f');\n",
              "        const dataTable =\n",
              "          await google.colab.kernel.invokeFunction('convertToInteractive',\n",
              "                                                    [key], {});\n",
              "        if (!dataTable) return;\n",
              "\n",
              "        const docLinkHtml = 'Like what you see? Visit the ' +\n",
              "          '<a target=\"_blank\" href=https://colab.research.google.com/notebooks/data_table.ipynb>data table notebook</a>'\n",
              "          + ' to learn more about interactive tables.';\n",
              "        element.innerHTML = '';\n",
              "        dataTable['output_type'] = 'display_data';\n",
              "        await google.colab.output.renderOutput(dataTable, element);\n",
              "        const docLink = document.createElement('div');\n",
              "        docLink.innerHTML = docLinkHtml;\n",
              "        element.appendChild(docLink);\n",
              "      }\n",
              "    </script>\n",
              "  </div>\n",
              "\n",
              "\n",
              "<div id=\"df-dd9e7ef7-dfb6-4f21-bf2e-d5f7899639e0\">\n",
              "  <button class=\"colab-df-quickchart\" onclick=\"quickchart('df-dd9e7ef7-dfb6-4f21-bf2e-d5f7899639e0')\"\n",
              "            title=\"Suggest charts\"\n",
              "            style=\"display:none;\">\n",
              "\n",
              "<svg xmlns=\"http://www.w3.org/2000/svg\" height=\"24px\"viewBox=\"0 0 24 24\"\n",
              "     width=\"24px\">\n",
              "    <g>\n",
              "        <path d=\"M19 3H5c-1.1 0-2 .9-2 2v14c0 1.1.9 2 2 2h14c1.1 0 2-.9 2-2V5c0-1.1-.9-2-2-2zM9 17H7v-7h2v7zm4 0h-2V7h2v10zm4 0h-2v-4h2v4z\"/>\n",
              "    </g>\n",
              "</svg>\n",
              "  </button>\n",
              "\n",
              "<style>\n",
              "  .colab-df-quickchart {\n",
              "      --bg-color: #E8F0FE;\n",
              "      --fill-color: #1967D2;\n",
              "      --hover-bg-color: #E2EBFA;\n",
              "      --hover-fill-color: #174EA6;\n",
              "      --disabled-fill-color: #AAA;\n",
              "      --disabled-bg-color: #DDD;\n",
              "  }\n",
              "\n",
              "  [theme=dark] .colab-df-quickchart {\n",
              "      --bg-color: #3B4455;\n",
              "      --fill-color: #D2E3FC;\n",
              "      --hover-bg-color: #434B5C;\n",
              "      --hover-fill-color: #FFFFFF;\n",
              "      --disabled-bg-color: #3B4455;\n",
              "      --disabled-fill-color: #666;\n",
              "  }\n",
              "\n",
              "  .colab-df-quickchart {\n",
              "    background-color: var(--bg-color);\n",
              "    border: none;\n",
              "    border-radius: 50%;\n",
              "    cursor: pointer;\n",
              "    display: none;\n",
              "    fill: var(--fill-color);\n",
              "    height: 32px;\n",
              "    padding: 0;\n",
              "    width: 32px;\n",
              "  }\n",
              "\n",
              "  .colab-df-quickchart:hover {\n",
              "    background-color: var(--hover-bg-color);\n",
              "    box-shadow: 0 1px 2px rgba(60, 64, 67, 0.3), 0 1px 3px 1px rgba(60, 64, 67, 0.15);\n",
              "    fill: var(--button-hover-fill-color);\n",
              "  }\n",
              "\n",
              "  .colab-df-quickchart-complete:disabled,\n",
              "  .colab-df-quickchart-complete:disabled:hover {\n",
              "    background-color: var(--disabled-bg-color);\n",
              "    fill: var(--disabled-fill-color);\n",
              "    box-shadow: none;\n",
              "  }\n",
              "\n",
              "  .colab-df-spinner {\n",
              "    border: 2px solid var(--fill-color);\n",
              "    border-color: transparent;\n",
              "    border-bottom-color: var(--fill-color);\n",
              "    animation:\n",
              "      spin 1s steps(1) infinite;\n",
              "  }\n",
              "\n",
              "  @keyframes spin {\n",
              "    0% {\n",
              "      border-color: transparent;\n",
              "      border-bottom-color: var(--fill-color);\n",
              "      border-left-color: var(--fill-color);\n",
              "    }\n",
              "    20% {\n",
              "      border-color: transparent;\n",
              "      border-left-color: var(--fill-color);\n",
              "      border-top-color: var(--fill-color);\n",
              "    }\n",
              "    30% {\n",
              "      border-color: transparent;\n",
              "      border-left-color: var(--fill-color);\n",
              "      border-top-color: var(--fill-color);\n",
              "      border-right-color: var(--fill-color);\n",
              "    }\n",
              "    40% {\n",
              "      border-color: transparent;\n",
              "      border-right-color: var(--fill-color);\n",
              "      border-top-color: var(--fill-color);\n",
              "    }\n",
              "    60% {\n",
              "      border-color: transparent;\n",
              "      border-right-color: var(--fill-color);\n",
              "    }\n",
              "    80% {\n",
              "      border-color: transparent;\n",
              "      border-right-color: var(--fill-color);\n",
              "      border-bottom-color: var(--fill-color);\n",
              "    }\n",
              "    90% {\n",
              "      border-color: transparent;\n",
              "      border-bottom-color: var(--fill-color);\n",
              "    }\n",
              "  }\n",
              "</style>\n",
              "\n",
              "  <script>\n",
              "    async function quickchart(key) {\n",
              "      const quickchartButtonEl =\n",
              "        document.querySelector('#' + key + ' button');\n",
              "      quickchartButtonEl.disabled = true;  // To prevent multiple clicks.\n",
              "      quickchartButtonEl.classList.add('colab-df-spinner');\n",
              "      try {\n",
              "        const charts = await google.colab.kernel.invokeFunction(\n",
              "            'suggestCharts', [key], {});\n",
              "      } catch (error) {\n",
              "        console.error('Error during call to suggestCharts:', error);\n",
              "      }\n",
              "      quickchartButtonEl.classList.remove('colab-df-spinner');\n",
              "      quickchartButtonEl.classList.add('colab-df-quickchart-complete');\n",
              "    }\n",
              "    (() => {\n",
              "      let quickchartButtonEl =\n",
              "        document.querySelector('#df-dd9e7ef7-dfb6-4f21-bf2e-d5f7899639e0 button');\n",
              "      quickchartButtonEl.style.display =\n",
              "        google.colab.kernel.accessAllowed ? 'block' : 'none';\n",
              "    })();\n",
              "  </script>\n",
              "</div>\n",
              "    </div>\n",
              "  </div>\n"
            ],
            "application/vnd.google.colaboratory.intrinsic+json": {
              "type": "dataframe",
              "variable_name": "df_lod",
              "summary": "{\n  \"name\": \"df_lod\",\n  \"rows\": 37,\n  \"fields\": [\n    {\n      \"column\": \"scholarlyWork\",\n      \"properties\": {\n        \"dtype\": \"string\",\n        \"num_unique_values\": 37,\n        \"samples\": [\n          \"http://data.mimotext.uni-trier.de/entity/Q3945\",\n          \"http://data.mimotext.uni-trier.de/entity/Q3941\",\n          \"http://data.mimotext.uni-trier.de/entity/Q3932\"\n        ],\n        \"semantic_type\": \"\",\n        \"description\": \"\"\n      }\n    },\n    {\n      \"column\": \"zotero_link\",\n      \"properties\": {\n        \"dtype\": \"string\",\n        \"num_unique_values\": 37,\n        \"samples\": [\n          \"https://www.zotero.org/groups/2342956/mimotext/items/RJ5MNS9S\",\n          \"https://www.zotero.org/groups/2342956/mimotext/items/FET5DSPE\",\n          \"https://www.zotero.org/groups/2342956/mimotext/items/8IU4W54Z\"\n        ],\n        \"semantic_type\": \"\",\n        \"description\": \"\"\n      }\n    },\n    {\n      \"column\": \"title\",\n      \"properties\": {\n        \"dtype\": \"string\",\n        \"num_unique_values\": 37,\n        \"samples\": [\n          \"Bemerkungen \\u00fcber die Correspondance philosophique, litt\\u00e9raire et critique (1747-1793)\",\n          \"Der moralisierende Charakter des sp\\u00e4taufkl\\u00e4rerischen Romans in seiner Bedeutung f\\u00fcr die Vorbereitung der b\\u00fcrgerlichen Gesellschaft [= Kapitel XI.C]\",\n          \"Franz\\u00f6sische Aufkl\\u00e4rung. B\\u00fcrgerliche Emanzipation, Literatur und Bewu\\u00dftseinsbildung\"\n        ],\n        \"semantic_type\": \"\",\n        \"description\": \"\"\n      }\n    },\n    {\n      \"column\": \"pub_date\",\n      \"properties\": {\n        \"dtype\": \"object\",\n        \"num_unique_values\": 20,\n        \"samples\": [\n          \"1998-01-01T00:00:00Z\",\n          \"2016-01-01T00:00:00Z\",\n          \"2010-01-01T00:00:00Z\"\n        ],\n        \"semantic_type\": \"\",\n        \"description\": \"\"\n      }\n    },\n    {\n      \"column\": \"scholarlyWorkLabel\",\n      \"properties\": {\n        \"dtype\": \"string\",\n        \"num_unique_values\": 37,\n        \"samples\": [\n          \"Mahrenholtz_1889a\",\n          \"Gei\\u00dfler_Starke_1979a\",\n          \"Schr\\u00f6der_1979a\"\n        ],\n        \"semantic_type\": \"\",\n        \"description\": \"\"\n      }\n    }\n  ]\n}"
            }
          },
          "metadata": {},
          "execution_count": 25
        }
      ],
      "source": [
        "def flatten_dict(d):\n",
        "    return {k: v['value'] for k, v in d.items()}\n",
        "flattened_data = flattened_data = [flatten_dict(d) for d in results[\"results\"][\"bindings\"]]\n",
        "df_lod = pd.DataFrame(flattened_data)\n",
        "df_lod.head()"
      ]
    },
    {
      "cell_type": "code",
      "execution_count": 26,
      "metadata": {
        "id": "3d9-TGAkubP7"
      },
      "outputs": [],
      "source": [
        "# string to_datetime\n",
        "df_lod['pub_date'] = pd.to_datetime(df_lod['pub_date'])"
      ]
    },
    {
      "cell_type": "markdown",
      "metadata": {
        "id": "9gC6YTYaI-hb"
      },
      "source": [
        "### LOD to OpenAlex API\n",
        "using time and publication_year"
      ]
    },
    {
      "cell_type": "code",
      "execution_count": 27,
      "metadata": {
        "colab": {
          "base_uri": "https://localhost:8080/",
          "height": 35
        },
        "id": "E49HQ-DEubP9",
        "outputId": "a5ead0a0-04da-41cc-bdc6-a391aa903c3f"
      },
      "outputs": [
        {
          "output_type": "execute_result",
          "data": {
            "text/plain": [
              "'Französische Literatur in Einzeldarstellungen'"
            ],
            "application/vnd.google.colaboratory.intrinsic+json": {
              "type": "string"
            }
          },
          "metadata": {},
          "execution_count": 27
        }
      ],
      "source": [
        "test_title = df_lod['title'][1]\n",
        "test_title"
      ]
    },
    {
      "cell_type": "code",
      "execution_count": 28,
      "metadata": {
        "colab": {
          "base_uri": "https://localhost:8080/"
        },
        "id": "aR0s9la6ubP9",
        "outputId": "dd0b545f-fc8a-4925-fbcc-7222f131aa92"
      },
      "outputs": [
        {
          "output_type": "execute_result",
          "data": {
            "text/plain": [
              "1981"
            ]
          },
          "metadata": {},
          "execution_count": 28
        }
      ],
      "source": [
        "test_year = df_lod['pub_date'][1].year\n",
        "test_year"
      ]
    },
    {
      "cell_type": "code",
      "execution_count": 29,
      "metadata": {
        "id": "Ne4Sa29gHKo_"
      },
      "outputs": [],
      "source": [
        "# url with a placeholder for cursor\n",
        "# example_url_with_cursor = f'https://api.openalex.org/works?filter=title_and_abstract.search:japan,publication_year:2000&per-page=200&cursor={cursor}&mailto={email}'\n",
        "example_url_with_cursor = f'https://api.openalex.org/works?&filter=display_name.search:{test_title},publication_year:{test_year}&per-page=200&cursor={cursor}&mailto={email}'"
      ]
    },
    {
      "cell_type": "code",
      "execution_count": 30,
      "metadata": {
        "id": "NCcM-KQtHNWa"
      },
      "outputs": [],
      "source": [
        "page_with_results = requests.get(example_url_with_cursor).json()"
      ]
    },
    {
      "cell_type": "code",
      "execution_count": 31,
      "metadata": {
        "colab": {
          "base_uri": "https://localhost:8080/"
        },
        "id": "3G4psRbyHGiN",
        "outputId": "4f6d3093-e6f8-49d6-caab-2e70555df371"
      },
      "outputs": [
        {
          "output_type": "execute_result",
          "data": {
            "text/plain": [
              "{'count': 2,\n",
              " 'db_response_time_ms': 75,\n",
              " 'page': None,\n",
              " 'per_page': 200,\n",
              " 'next_cursor': 'Ils0OC4xNTM2OTQsIDM0NzE1NTIwMDAwMCwgJ2h0dHBzOi8vb3BlbmFsZXgub3JnL1cyMjM5NjY1NzkyJ10i',\n",
              " 'groups_count': None}"
            ]
          },
          "metadata": {},
          "execution_count": 31
        }
      ],
      "source": [
        "# metadata\n",
        "page_with_results['meta']"
      ]
    },
    {
      "cell_type": "code",
      "execution_count": 32,
      "metadata": {
        "colab": {
          "base_uri": "https://localhost:8080/"
        },
        "id": "Ols4Z996Irn9",
        "outputId": "06ed2cd6-31cd-4887-f240-e483d38d6be5"
      },
      "outputs": [
        {
          "output_type": "execute_result",
          "data": {
            "text/plain": [
              "{'id': 'https://openalex.org/W2524711099',\n",
              " 'doi': 'https://doi.org/10.1007/978-3-476-03150-1',\n",
              " 'title': 'Französische Literatur in Einzeldarstellungen',\n",
              " 'display_name': 'Französische Literatur in Einzeldarstellungen',\n",
              " 'relevance_score': 258.46857,\n",
              " 'publication_year': 1981,\n",
              " 'publication_date': '1981-01-01',\n",
              " 'ids': {'openalex': 'https://openalex.org/W2524711099',\n",
              "  'doi': 'https://doi.org/10.1007/978-3-476-03150-1',\n",
              "  'mag': '2524711099'},\n",
              " 'language': 'de',\n",
              " 'primary_location': {'is_oa': False,\n",
              "  'landing_page_url': 'https://doi.org/10.1007/978-3-476-03150-1',\n",
              "  'pdf_url': None,\n",
              "  'source': {'id': 'https://openalex.org/S4306463491',\n",
              "   'display_name': 'J.B. Metzler eBooks',\n",
              "   'issn_l': None,\n",
              "   'issn': None,\n",
              "   'is_oa': False,\n",
              "   'is_in_doaj': False,\n",
              "   'host_organization': 'https://openalex.org/P4310319879',\n",
              "   'host_organization_name': 'J.B. Metzler',\n",
              "   'host_organization_lineage': ['https://openalex.org/P4310319879',\n",
              "    'https://openalex.org/P4310319965'],\n",
              "   'host_organization_lineage_names': ['J.B. Metzler', 'Springer Nature'],\n",
              "   'type': 'ebook platform'},\n",
              "  'license': None,\n",
              "  'version': None,\n",
              "  'is_accepted': False,\n",
              "  'is_published': False},\n",
              " 'type': 'book',\n",
              " 'type_crossref': 'book',\n",
              " 'indexed_in': ['crossref'],\n",
              " 'open_access': {'is_oa': False,\n",
              "  'oa_status': 'closed',\n",
              "  'oa_url': None,\n",
              "  'any_repository_has_fulltext': False},\n",
              " 'authorships': [{'author_position': 'first',\n",
              "   'author': {'id': 'https://openalex.org/A5062142988',\n",
              "    'display_name': 'Peter Brockmeier',\n",
              "    'orcid': None},\n",
              "   'institutions': [],\n",
              "   'countries': [],\n",
              "   'is_corresponding': False,\n",
              "   'raw_author_name': 'Peter Brockmeier',\n",
              "   'raw_affiliation_strings': []},\n",
              "  {'author_position': 'last',\n",
              "   'author': {'id': 'https://openalex.org/A5023606412',\n",
              "    'display_name': 'Hermann H. Wetzel',\n",
              "    'orcid': None},\n",
              "   'institutions': [],\n",
              "   'countries': [],\n",
              "   'is_corresponding': False,\n",
              "   'raw_author_name': 'Hermann H. Wetzel',\n",
              "   'raw_affiliation_strings': []}],\n",
              " 'countries_distinct_count': 0,\n",
              " 'institutions_distinct_count': 0,\n",
              " 'corresponding_author_ids': [],\n",
              " 'corresponding_institution_ids': [],\n",
              " 'apc_list': None,\n",
              " 'apc_paid': None,\n",
              " 'has_fulltext': False,\n",
              " 'cited_by_count': 1,\n",
              " 'cited_by_percentile_year': {'min': 59, 'max': 66},\n",
              " 'biblio': {'volume': None,\n",
              "  'issue': None,\n",
              "  'first_page': None,\n",
              "  'last_page': None},\n",
              " 'is_retracted': False,\n",
              " 'is_paratext': False,\n",
              " 'primary_topic': None,\n",
              " 'topics': [],\n",
              " 'keywords': [],\n",
              " 'concepts': [{'id': 'https://openalex.org/C142362112',\n",
              "   'wikidata': 'https://www.wikidata.org/wiki/Q735',\n",
              "   'display_name': 'Art',\n",
              "   'level': 0,\n",
              "   'score': 0.41593063},\n",
              "  {'id': 'https://openalex.org/C95457728',\n",
              "   'wikidata': 'https://www.wikidata.org/wiki/Q309',\n",
              "   'display_name': 'History',\n",
              "   'level': 0,\n",
              "   'score': 0.36977816}],\n",
              " 'mesh': [],\n",
              " 'locations_count': 1,\n",
              " 'locations': [{'is_oa': False,\n",
              "   'landing_page_url': 'https://doi.org/10.1007/978-3-476-03150-1',\n",
              "   'pdf_url': None,\n",
              "   'source': {'id': 'https://openalex.org/S4306463491',\n",
              "    'display_name': 'J.B. Metzler eBooks',\n",
              "    'issn_l': None,\n",
              "    'issn': None,\n",
              "    'is_oa': False,\n",
              "    'is_in_doaj': False,\n",
              "    'host_organization': 'https://openalex.org/P4310319879',\n",
              "    'host_organization_name': 'J.B. Metzler',\n",
              "    'host_organization_lineage': ['https://openalex.org/P4310319879',\n",
              "     'https://openalex.org/P4310319965'],\n",
              "    'host_organization_lineage_names': ['J.B. Metzler', 'Springer Nature'],\n",
              "    'type': 'ebook platform'},\n",
              "   'license': None,\n",
              "   'version': None,\n",
              "   'is_accepted': False,\n",
              "   'is_published': False}],\n",
              " 'best_oa_location': None,\n",
              " 'sustainable_development_goals': [{'display_name': 'Quality education',\n",
              "   'score': 0.6,\n",
              "   'id': 'https://metadata.un.org/sdg/4'}],\n",
              " 'grants': [],\n",
              " 'datasets': [],\n",
              " 'versions': [],\n",
              " 'referenced_works_count': 0,\n",
              " 'referenced_works': [],\n",
              " 'related_works': ['https://openalex.org/W1531601525',\n",
              "  'https://openalex.org/W3183948672',\n",
              "  'https://openalex.org/W2748952813',\n",
              "  'https://openalex.org/W4387497383',\n",
              "  'https://openalex.org/W2899084033',\n",
              "  'https://openalex.org/W2778153218',\n",
              "  'https://openalex.org/W2758277628',\n",
              "  'https://openalex.org/W2948807893',\n",
              "  'https://openalex.org/W3173606202',\n",
              "  'https://openalex.org/W3110381201'],\n",
              " 'ngrams_url': 'https://api.openalex.org/works/W2524711099/ngrams',\n",
              " 'abstract_inverted_index': None,\n",
              " 'cited_by_api_url': 'https://api.openalex.org/works?filter=cites:W2524711099',\n",
              " 'counts_by_year': [],\n",
              " 'updated_date': '2024-04-25T03:03:35.231033',\n",
              " 'created_date': '2016-10-07'}"
            ]
          },
          "metadata": {},
          "execution_count": 32
        }
      ],
      "source": [
        "# results\n",
        "page_with_results['results'][0]"
      ]
    },
    {
      "cell_type": "code",
      "execution_count": 33,
      "metadata": {
        "id": "EQQqcGtzubP-"
      },
      "outputs": [],
      "source": [
        "# Remove punctuation from the 'title' column\n",
        "df_lod['title'] = df_lod['title'].apply(lambda x: re.sub(r'[^\\w\\s]', '', x))"
      ]
    },
    {
      "cell_type": "code",
      "execution_count": 34,
      "metadata": {
        "colab": {
          "base_uri": "https://localhost:8080/",
          "height": 49,
          "referenced_widgets": [
            "ef53cd63a5b2498da107e39a5fa56f49",
            "aa9d2bd781374dd387a759baec145647",
            "a4800bf4f0e14d668286f269cd1061a2",
            "82744e3204044160bd19197cbd21eeeb",
            "d1e30773bb6a47bf8b09652b7a799db1",
            "7f64b1a4b1a74e6e86611a57a111203e",
            "109cee9b71cb42b5bad546661683333a",
            "eabc89ae0e5a4a05899cba421c198e94",
            "8e763006877540cd8fb28eec6739f146",
            "aa0bc5dd6239498aacd7131e548a0e4c",
            "7508a72642974efd9ac2370fbc4ce4fb"
          ]
        },
        "id": "EfPEgFi0ubP-",
        "outputId": "0954238c-a8b1-45f6-fc7b-806e3d5f463c"
      },
      "outputs": [
        {
          "output_type": "display_data",
          "data": {
            "text/plain": [
              "  0%|          | 0/37 [00:00<?, ?it/s]"
            ],
            "application/vnd.jupyter.widget-view+json": {
              "version_major": 2,
              "version_minor": 0,
              "model_id": "ef53cd63a5b2498da107e39a5fa56f49"
            }
          },
          "metadata": {}
        }
      ],
      "source": [
        "# Initialize a new list to store the responses\n",
        "responses = []\n",
        "\n",
        "for i in tqdm(range(len(df_lod))):\n",
        "    title = df_lod['title'][i]\n",
        "    # title = quote(title)  # encode the title string to be URL safe\n",
        "    # title = title.replace('\"', '')  # remove internal double quotes\n",
        "    year = df_lod['pub_date'][i].year\n",
        "     # Create a range of years from the current year to the next year\n",
        "    year_range = f\"{year-1}-{year+1}\"\n",
        "\n",
        "    url = f'https://api.openalex.org/works?&filter=display_name.search:{title},publication_year:{year_range}&per-page=200&cursor={cursor}&mailto={email}'\n",
        "    # url = f'https://api.openalex.org/works?&filter=display_name.search:{title},publication_year:{year}&per-page=200&cursor={cursor}&mailto={email}'\n",
        "\n",
        "    response = requests.get(url).json()\n",
        "    responses.append(response)\n",
        "\n",
        "# Add the responses as a new column to the DataFrame\n",
        "df_lod['openalex'] = pd.Series(responses)"
      ]
    },
    {
      "cell_type": "code",
      "execution_count": 35,
      "metadata": {
        "colab": {
          "base_uri": "https://localhost:8080/"
        },
        "id": "Yequ7ChJubP_",
        "outputId": "abd7016d-4460-466d-a6da-9a408f5a8ced"
      },
      "outputs": [
        {
          "output_type": "execute_result",
          "data": {
            "text/plain": [
              "0     {'meta': {'count': 0, 'db_response_time_ms': 1...\n",
              "1     {'meta': {'count': 7, 'db_response_time_ms': 4...\n",
              "2     {'meta': {'count': 1, 'db_response_time_ms': 1...\n",
              "3     {'meta': {'count': 4, 'db_response_time_ms': 5...\n",
              "4     {'meta': {'count': 0, 'db_response_time_ms': 5...\n",
              "5     {'meta': {'count': 1, 'db_response_time_ms': 6...\n",
              "6     {'meta': {'count': 1, 'db_response_time_ms': 1...\n",
              "7     {'meta': {'count': 0, 'db_response_time_ms': 8...\n",
              "8     {'meta': {'count': 0, 'db_response_time_ms': 1...\n",
              "9     {'meta': {'count': 0, 'db_response_time_ms': 1...\n",
              "10    {'meta': {'count': 1, 'db_response_time_ms': 5...\n",
              "11    {'meta': {'count': 0, 'db_response_time_ms': 1...\n",
              "12    {'meta': {'count': 0, 'db_response_time_ms': 5...\n",
              "13    {'meta': {'count': 0, 'db_response_time_ms': 1...\n",
              "14    {'meta': {'count': 0, 'db_response_time_ms': 8...\n",
              "15    {'meta': {'count': 0, 'db_response_time_ms': 6...\n",
              "16    {'meta': {'count': 0, 'db_response_time_ms': 6...\n",
              "17    {'meta': {'count': 0, 'db_response_time_ms': 9...\n",
              "18    {'meta': {'count': 0, 'db_response_time_ms': 1...\n",
              "19    {'meta': {'count': 0, 'db_response_time_ms': 5...\n",
              "20    {'meta': {'count': 0, 'db_response_time_ms': 8...\n",
              "21    {'meta': {'count': 0, 'db_response_time_ms': 5...\n",
              "22    {'meta': {'count': 0, 'db_response_time_ms': 1...\n",
              "23    {'meta': {'count': 1, 'db_response_time_ms': 3...\n",
              "24    {'meta': {'count': 0, 'db_response_time_ms': 3...\n",
              "25    {'meta': {'count': 0, 'db_response_time_ms': 3...\n",
              "26    {'meta': {'count': 0, 'db_response_time_ms': 1...\n",
              "27    {'meta': {'count': 0, 'db_response_time_ms': 9...\n",
              "28    {'meta': {'count': 1, 'db_response_time_ms': 6...\n",
              "29    {'meta': {'count': 0, 'db_response_time_ms': 1...\n",
              "30    {'meta': {'count': 0, 'db_response_time_ms': 7...\n",
              "31    {'meta': {'count': 0, 'db_response_time_ms': 8...\n",
              "32    {'meta': {'count': 0, 'db_response_time_ms': 8...\n",
              "33    {'meta': {'count': 0, 'db_response_time_ms': 1...\n",
              "34    {'meta': {'count': 0, 'db_response_time_ms': 1...\n",
              "35    {'meta': {'count': 0, 'db_response_time_ms': 7...\n",
              "36    {'meta': {'count': 0, 'db_response_time_ms': 3...\n",
              "Name: openalex, dtype: object"
            ]
          },
          "metadata": {},
          "execution_count": 35
        }
      ],
      "source": [
        "df_lod['openalex']"
      ]
    },
    {
      "cell_type": "code",
      "source": [
        "# If there are matching results from the openalex api (count>0), assign the first result with the highest similarity\n",
        "\n",
        "df_lod['openalex_matched'] = df_lod['openalex'].map(lambda x:x['results'][0] if x['meta']['count']>0 else pd.NA)\n",
        "df_lod['openalex_matched']"
      ],
      "metadata": {
        "id": "e_V0-WBq0qyE",
        "colab": {
          "base_uri": "https://localhost:8080/"
        },
        "outputId": "68afc1a2-809c-4784-e6ca-f0a566c60fcb"
      },
      "execution_count": 41,
      "outputs": [
        {
          "output_type": "execute_result",
          "data": {
            "text/plain": [
              "0                                                  <NA>\n",
              "1     {'id': 'https://openalex.org/W2524711099', 'do...\n",
              "2     {'id': 'https://openalex.org/W4239359467', 'do...\n",
              "3     {'id': 'https://openalex.org/W2067883549', 'do...\n",
              "4                                                  <NA>\n",
              "5     {'id': 'https://openalex.org/W4206458875', 'do...\n",
              "6     {'id': 'https://openalex.org/W1975366277', 'do...\n",
              "7                                                  <NA>\n",
              "8                                                  <NA>\n",
              "9                                                  <NA>\n",
              "10    {'id': 'https://openalex.org/W2529289951', 'do...\n",
              "11                                                 <NA>\n",
              "12                                                 <NA>\n",
              "13                                                 <NA>\n",
              "14                                                 <NA>\n",
              "15                                                 <NA>\n",
              "16                                                 <NA>\n",
              "17                                                 <NA>\n",
              "18                                                 <NA>\n",
              "19                                                 <NA>\n",
              "20                                                 <NA>\n",
              "21                                                 <NA>\n",
              "22                                                 <NA>\n",
              "23    {'id': 'https://openalex.org/W2530707955', 'do...\n",
              "24                                                 <NA>\n",
              "25                                                 <NA>\n",
              "26                                                 <NA>\n",
              "27                                                 <NA>\n",
              "28    {'id': 'https://openalex.org/W2517935304', 'do...\n",
              "29                                                 <NA>\n",
              "30                                                 <NA>\n",
              "31                                                 <NA>\n",
              "32                                                 <NA>\n",
              "33                                                 <NA>\n",
              "34                                                 <NA>\n",
              "35                                                 <NA>\n",
              "36                                                 <NA>\n",
              "Name: openalex_matched, dtype: object"
            ]
          },
          "metadata": {},
          "execution_count": 41
        }
      ]
    },
    {
      "cell_type": "code",
      "source": [
        "# make openalex id(url) column\n",
        "df_lod['openalex_id'] = df_lod['openalex_matched'].dropna().map(lambda x:x['id'])\n",
        "df_lod['openalex_id']"
      ],
      "metadata": {
        "colab": {
          "base_uri": "https://localhost:8080/"
        },
        "id": "9O58WjAHOnQE",
        "outputId": "aa216867-52cf-4a7e-daac-a9eaaefa206e"
      },
      "execution_count": 44,
      "outputs": [
        {
          "output_type": "execute_result",
          "data": {
            "text/plain": [
              "0                                  NaN\n",
              "1     https://openalex.org/W2524711099\n",
              "2     https://openalex.org/W4239359467\n",
              "3     https://openalex.org/W2067883549\n",
              "4                                  NaN\n",
              "5     https://openalex.org/W4206458875\n",
              "6     https://openalex.org/W1975366277\n",
              "7                                  NaN\n",
              "8                                  NaN\n",
              "9                                  NaN\n",
              "10    https://openalex.org/W2529289951\n",
              "11                                 NaN\n",
              "12                                 NaN\n",
              "13                                 NaN\n",
              "14                                 NaN\n",
              "15                                 NaN\n",
              "16                                 NaN\n",
              "17                                 NaN\n",
              "18                                 NaN\n",
              "19                                 NaN\n",
              "20                                 NaN\n",
              "21                                 NaN\n",
              "22                                 NaN\n",
              "23    https://openalex.org/W2530707955\n",
              "24                                 NaN\n",
              "25                                 NaN\n",
              "26                                 NaN\n",
              "27                                 NaN\n",
              "28    https://openalex.org/W2517935304\n",
              "29                                 NaN\n",
              "30                                 NaN\n",
              "31                                 NaN\n",
              "32                                 NaN\n",
              "33                                 NaN\n",
              "34                                 NaN\n",
              "35                                 NaN\n",
              "36                                 NaN\n",
              "Name: openalex_id, dtype: object"
            ]
          },
          "metadata": {},
          "execution_count": 44
        }
      ]
    }
  ],
  "metadata": {
    "colab": {
      "provenance": [],
      "include_colab_link": true
    },
    "kernelspec": {
      "display_name": "Python 3",
      "name": "python3"
    },
    "language_info": {
      "codemirror_mode": {
        "name": "ipython",
        "version": 3
      },
      "file_extension": ".py",
      "mimetype": "text/x-python",
      "name": "python",
      "nbconvert_exporter": "python",
      "pygments_lexer": "ipython3",
      "version": "3.11.8"
    },
    "widgets": {
      "application/vnd.jupyter.widget-state+json": {
        "ef53cd63a5b2498da107e39a5fa56f49": {
          "model_module": "@jupyter-widgets/controls",
          "model_name": "HBoxModel",
          "model_module_version": "1.5.0",
          "state": {
            "_dom_classes": [],
            "_model_module": "@jupyter-widgets/controls",
            "_model_module_version": "1.5.0",
            "_model_name": "HBoxModel",
            "_view_count": null,
            "_view_module": "@jupyter-widgets/controls",
            "_view_module_version": "1.5.0",
            "_view_name": "HBoxView",
            "box_style": "",
            "children": [
              "IPY_MODEL_aa9d2bd781374dd387a759baec145647",
              "IPY_MODEL_a4800bf4f0e14d668286f269cd1061a2",
              "IPY_MODEL_82744e3204044160bd19197cbd21eeeb"
            ],
            "layout": "IPY_MODEL_d1e30773bb6a47bf8b09652b7a799db1"
          }
        },
        "aa9d2bd781374dd387a759baec145647": {
          "model_module": "@jupyter-widgets/controls",
          "model_name": "HTMLModel",
          "model_module_version": "1.5.0",
          "state": {
            "_dom_classes": [],
            "_model_module": "@jupyter-widgets/controls",
            "_model_module_version": "1.5.0",
            "_model_name": "HTMLModel",
            "_view_count": null,
            "_view_module": "@jupyter-widgets/controls",
            "_view_module_version": "1.5.0",
            "_view_name": "HTMLView",
            "description": "",
            "description_tooltip": null,
            "layout": "IPY_MODEL_7f64b1a4b1a74e6e86611a57a111203e",
            "placeholder": "​",
            "style": "IPY_MODEL_109cee9b71cb42b5bad546661683333a",
            "value": "100%"
          }
        },
        "a4800bf4f0e14d668286f269cd1061a2": {
          "model_module": "@jupyter-widgets/controls",
          "model_name": "FloatProgressModel",
          "model_module_version": "1.5.0",
          "state": {
            "_dom_classes": [],
            "_model_module": "@jupyter-widgets/controls",
            "_model_module_version": "1.5.0",
            "_model_name": "FloatProgressModel",
            "_view_count": null,
            "_view_module": "@jupyter-widgets/controls",
            "_view_module_version": "1.5.0",
            "_view_name": "ProgressView",
            "bar_style": "success",
            "description": "",
            "description_tooltip": null,
            "layout": "IPY_MODEL_eabc89ae0e5a4a05899cba421c198e94",
            "max": 37,
            "min": 0,
            "orientation": "horizontal",
            "style": "IPY_MODEL_8e763006877540cd8fb28eec6739f146",
            "value": 37
          }
        },
        "82744e3204044160bd19197cbd21eeeb": {
          "model_module": "@jupyter-widgets/controls",
          "model_name": "HTMLModel",
          "model_module_version": "1.5.0",
          "state": {
            "_dom_classes": [],
            "_model_module": "@jupyter-widgets/controls",
            "_model_module_version": "1.5.0",
            "_model_name": "HTMLModel",
            "_view_count": null,
            "_view_module": "@jupyter-widgets/controls",
            "_view_module_version": "1.5.0",
            "_view_name": "HTMLView",
            "description": "",
            "description_tooltip": null,
            "layout": "IPY_MODEL_aa0bc5dd6239498aacd7131e548a0e4c",
            "placeholder": "​",
            "style": "IPY_MODEL_7508a72642974efd9ac2370fbc4ce4fb",
            "value": " 37/37 [00:09&lt;00:00,  4.17it/s]"
          }
        },
        "d1e30773bb6a47bf8b09652b7a799db1": {
          "model_module": "@jupyter-widgets/base",
          "model_name": "LayoutModel",
          "model_module_version": "1.2.0",
          "state": {
            "_model_module": "@jupyter-widgets/base",
            "_model_module_version": "1.2.0",
            "_model_name": "LayoutModel",
            "_view_count": null,
            "_view_module": "@jupyter-widgets/base",
            "_view_module_version": "1.2.0",
            "_view_name": "LayoutView",
            "align_content": null,
            "align_items": null,
            "align_self": null,
            "border": null,
            "bottom": null,
            "display": null,
            "flex": null,
            "flex_flow": null,
            "grid_area": null,
            "grid_auto_columns": null,
            "grid_auto_flow": null,
            "grid_auto_rows": null,
            "grid_column": null,
            "grid_gap": null,
            "grid_row": null,
            "grid_template_areas": null,
            "grid_template_columns": null,
            "grid_template_rows": null,
            "height": null,
            "justify_content": null,
            "justify_items": null,
            "left": null,
            "margin": null,
            "max_height": null,
            "max_width": null,
            "min_height": null,
            "min_width": null,
            "object_fit": null,
            "object_position": null,
            "order": null,
            "overflow": null,
            "overflow_x": null,
            "overflow_y": null,
            "padding": null,
            "right": null,
            "top": null,
            "visibility": null,
            "width": null
          }
        },
        "7f64b1a4b1a74e6e86611a57a111203e": {
          "model_module": "@jupyter-widgets/base",
          "model_name": "LayoutModel",
          "model_module_version": "1.2.0",
          "state": {
            "_model_module": "@jupyter-widgets/base",
            "_model_module_version": "1.2.0",
            "_model_name": "LayoutModel",
            "_view_count": null,
            "_view_module": "@jupyter-widgets/base",
            "_view_module_version": "1.2.0",
            "_view_name": "LayoutView",
            "align_content": null,
            "align_items": null,
            "align_self": null,
            "border": null,
            "bottom": null,
            "display": null,
            "flex": null,
            "flex_flow": null,
            "grid_area": null,
            "grid_auto_columns": null,
            "grid_auto_flow": null,
            "grid_auto_rows": null,
            "grid_column": null,
            "grid_gap": null,
            "grid_row": null,
            "grid_template_areas": null,
            "grid_template_columns": null,
            "grid_template_rows": null,
            "height": null,
            "justify_content": null,
            "justify_items": null,
            "left": null,
            "margin": null,
            "max_height": null,
            "max_width": null,
            "min_height": null,
            "min_width": null,
            "object_fit": null,
            "object_position": null,
            "order": null,
            "overflow": null,
            "overflow_x": null,
            "overflow_y": null,
            "padding": null,
            "right": null,
            "top": null,
            "visibility": null,
            "width": null
          }
        },
        "109cee9b71cb42b5bad546661683333a": {
          "model_module": "@jupyter-widgets/controls",
          "model_name": "DescriptionStyleModel",
          "model_module_version": "1.5.0",
          "state": {
            "_model_module": "@jupyter-widgets/controls",
            "_model_module_version": "1.5.0",
            "_model_name": "DescriptionStyleModel",
            "_view_count": null,
            "_view_module": "@jupyter-widgets/base",
            "_view_module_version": "1.2.0",
            "_view_name": "StyleView",
            "description_width": ""
          }
        },
        "eabc89ae0e5a4a05899cba421c198e94": {
          "model_module": "@jupyter-widgets/base",
          "model_name": "LayoutModel",
          "model_module_version": "1.2.0",
          "state": {
            "_model_module": "@jupyter-widgets/base",
            "_model_module_version": "1.2.0",
            "_model_name": "LayoutModel",
            "_view_count": null,
            "_view_module": "@jupyter-widgets/base",
            "_view_module_version": "1.2.0",
            "_view_name": "LayoutView",
            "align_content": null,
            "align_items": null,
            "align_self": null,
            "border": null,
            "bottom": null,
            "display": null,
            "flex": null,
            "flex_flow": null,
            "grid_area": null,
            "grid_auto_columns": null,
            "grid_auto_flow": null,
            "grid_auto_rows": null,
            "grid_column": null,
            "grid_gap": null,
            "grid_row": null,
            "grid_template_areas": null,
            "grid_template_columns": null,
            "grid_template_rows": null,
            "height": null,
            "justify_content": null,
            "justify_items": null,
            "left": null,
            "margin": null,
            "max_height": null,
            "max_width": null,
            "min_height": null,
            "min_width": null,
            "object_fit": null,
            "object_position": null,
            "order": null,
            "overflow": null,
            "overflow_x": null,
            "overflow_y": null,
            "padding": null,
            "right": null,
            "top": null,
            "visibility": null,
            "width": null
          }
        },
        "8e763006877540cd8fb28eec6739f146": {
          "model_module": "@jupyter-widgets/controls",
          "model_name": "ProgressStyleModel",
          "model_module_version": "1.5.0",
          "state": {
            "_model_module": "@jupyter-widgets/controls",
            "_model_module_version": "1.5.0",
            "_model_name": "ProgressStyleModel",
            "_view_count": null,
            "_view_module": "@jupyter-widgets/base",
            "_view_module_version": "1.2.0",
            "_view_name": "StyleView",
            "bar_color": null,
            "description_width": ""
          }
        },
        "aa0bc5dd6239498aacd7131e548a0e4c": {
          "model_module": "@jupyter-widgets/base",
          "model_name": "LayoutModel",
          "model_module_version": "1.2.0",
          "state": {
            "_model_module": "@jupyter-widgets/base",
            "_model_module_version": "1.2.0",
            "_model_name": "LayoutModel",
            "_view_count": null,
            "_view_module": "@jupyter-widgets/base",
            "_view_module_version": "1.2.0",
            "_view_name": "LayoutView",
            "align_content": null,
            "align_items": null,
            "align_self": null,
            "border": null,
            "bottom": null,
            "display": null,
            "flex": null,
            "flex_flow": null,
            "grid_area": null,
            "grid_auto_columns": null,
            "grid_auto_flow": null,
            "grid_auto_rows": null,
            "grid_column": null,
            "grid_gap": null,
            "grid_row": null,
            "grid_template_areas": null,
            "grid_template_columns": null,
            "grid_template_rows": null,
            "height": null,
            "justify_content": null,
            "justify_items": null,
            "left": null,
            "margin": null,
            "max_height": null,
            "max_width": null,
            "min_height": null,
            "min_width": null,
            "object_fit": null,
            "object_position": null,
            "order": null,
            "overflow": null,
            "overflow_x": null,
            "overflow_y": null,
            "padding": null,
            "right": null,
            "top": null,
            "visibility": null,
            "width": null
          }
        },
        "7508a72642974efd9ac2370fbc4ce4fb": {
          "model_module": "@jupyter-widgets/controls",
          "model_name": "DescriptionStyleModel",
          "model_module_version": "1.5.0",
          "state": {
            "_model_module": "@jupyter-widgets/controls",
            "_model_module_version": "1.5.0",
            "_model_name": "DescriptionStyleModel",
            "_view_count": null,
            "_view_module": "@jupyter-widgets/base",
            "_view_module_version": "1.2.0",
            "_view_name": "StyleView",
            "description_width": ""
          }
        }
      }
    }
  },
  "nbformat": 4,
  "nbformat_minor": 0
}